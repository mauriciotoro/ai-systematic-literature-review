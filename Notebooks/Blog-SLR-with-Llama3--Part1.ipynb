{
 "cells": [
  {
   "cell_type": "markdown",
   "id": "eb9bbac3-8849-4bcc-b40b-01bc7938be92",
   "metadata": {},
   "source": [
    "##  Identifying Relevant Scientific Articles Using Llama 3.1 8B"
   ]
  },
  {
   "cell_type": "markdown",
   "id": "e8b5f59c-69f2-419f-a810-7b1ae60e77f1",
   "metadata": {},
   "source": [
    "### Install libraries and download models"
   ]
  },
  {
   "cell_type": "code",
   "execution_count": 20,
   "id": "463fc942",
   "metadata": {},
   "outputs": [],
   "source": [
    "!pip --quiet install ollama html5lib openpyxl tqdm pandas matplotlib matplotlib-venn"
   ]
  },
  {
   "cell_type": "markdown",
   "id": "12268acd-5e7f-454c-86ed-f53715ad01e1",
   "metadata": {},
   "source": [
    "### Import libraries and define helper functions"
   ]
  },
  {
   "cell_type": "code",
   "execution_count": 6,
   "id": "fa7e9cf9",
   "metadata": {},
   "outputs": [],
   "source": [
    "import ollama\n",
    "import PyPDF2\n",
    "import os\n",
    "import pandas as pd\n",
    "import pickle\n",
    "from tqdm import tqdm\n",
    "import matplotlib.pyplot as plt\n",
    "from matplotlib_venn import venn2\n",
    "from matplotlib import rcParams"
   ]
  },
  {
   "cell_type": "code",
   "execution_count": 203,
   "id": "d9d73448-0f30-42e8-a014-257d4496f502",
   "metadata": {},
   "outputs": [],
   "source": [
    "# Enable progress_apply for pandas\n",
    "tqdm.pandas()"
   ]
  },
  {
   "cell_type": "code",
   "execution_count": 245,
   "id": "d91c2251-f1e3-45f4-8367-624ae063e9f0",
   "metadata": {},
   "outputs": [
    {
     "data": {
      "text/plain": [
       "{'status': 'success'}"
      ]
     },
     "execution_count": 245,
     "metadata": {},
     "output_type": "execute_result"
    }
   ],
   "source": [
    "# Pull the LLaMa 3.1 model\n",
    "ollama.pull('llama3.1:latest')"
   ]
  },
  {
   "cell_type": "code",
   "execution_count": 247,
   "id": "d507c4b1-f5a5-4a17-99a0-2f8cb053436a",
   "metadata": {},
   "outputs": [
    {
     "data": {
      "text/plain": [
       "{'models': [{'name': 'llama3.1:latest',\n",
       "   'model': 'llama3.1:latest',\n",
       "   'modified_at': '2024-09-25T15:19:49.053712941+01:00',\n",
       "   'size': 4661230766,\n",
       "   'digest': '42182419e9508c30c4b1fe55015f06b65f4ca4b9e28a744be55008d21998a093',\n",
       "   'details': {'parent_model': '',\n",
       "    'format': 'gguf',\n",
       "    'family': 'llama',\n",
       "    'families': ['llama'],\n",
       "    'parameter_size': '8.0B',\n",
       "    'quantization_level': 'Q4_0'}},\n",
       "  {'name': 'llama3:latest',\n",
       "   'model': 'llama3:latest',\n",
       "   'modified_at': '2024-09-05T13:44:54.398684489+01:00',\n",
       "   'size': 4661224676,\n",
       "   'digest': '365c0bd3c000a25d28ddbf732fe1c6add414de7275464c4e4d1c3b5fcb5d8ad1',\n",
       "   'details': {'parent_model': '',\n",
       "    'format': 'gguf',\n",
       "    'family': 'llama',\n",
       "    'families': ['llama'],\n",
       "    'parameter_size': '8.0B',\n",
       "    'quantization_level': 'Q4_0'}},\n",
       "  {'name': 'gemma2:latest',\n",
       "   'model': 'gemma2:latest',\n",
       "   'modified_at': '2024-06-27T16:38:53.226408245+01:00',\n",
       "   'size': 5453010643,\n",
       "   'digest': 'f67334982954ce56d25f7d55dcd5632ad66f26ca3fc88f6cb3f3439c6e211d2c',\n",
       "   'details': {'parent_model': '',\n",
       "    'format': 'gguf',\n",
       "    'family': 'gemma2',\n",
       "    'families': ['gemma2'],\n",
       "    'parameter_size': '9.2B',\n",
       "    'quantization_level': 'Q4_0'}},\n",
       "  {'name': 'mixtral:latest',\n",
       "   'model': 'mixtral:latest',\n",
       "   'modified_at': '2024-05-21T14:23:37.333186753+01:00',\n",
       "   'size': 26442481545,\n",
       "   'digest': 'd39eb76ed9c5a624130f087be1d6e3267e65025cd264c79deb9b3771e4b7bd19',\n",
       "   'details': {'parent_model': '',\n",
       "    'format': 'gguf',\n",
       "    'family': 'llama',\n",
       "    'families': ['llama'],\n",
       "    'parameter_size': '47B',\n",
       "    'quantization_level': 'Q4_0'}},\n",
       "  {'name': 'mistral:latest',\n",
       "   'model': 'mistral:latest',\n",
       "   'modified_at': '2024-05-17T11:05:21.752756118+01:00',\n",
       "   'size': 4109865159,\n",
       "   'digest': '61e88e884507ba5e06c49b40e6226884b2a16e872382c2b44a42f2d119d804a5',\n",
       "   'details': {'parent_model': '',\n",
       "    'format': 'gguf',\n",
       "    'family': 'llama',\n",
       "    'families': ['llama'],\n",
       "    'parameter_size': '7B',\n",
       "    'quantization_level': 'Q4_0'}},\n",
       "  {'name': 'llama2:latest',\n",
       "   'model': 'llama2:latest',\n",
       "   'modified_at': '2024-02-12T16:03:50.869632352Z',\n",
       "   'size': 3826793677,\n",
       "   'digest': '78e26419b4469263f75331927a00a0284ef6544c1975b826b15abdaef17bb962',\n",
       "   'details': {'parent_model': '',\n",
       "    'format': 'gguf',\n",
       "    'family': 'llama',\n",
       "    'families': ['llama'],\n",
       "    'parameter_size': '7B',\n",
       "    'quantization_level': 'Q4_0'}}]}"
      ]
     },
     "execution_count": 247,
     "metadata": {},
     "output_type": "execute_result"
    }
   ],
   "source": [
    "# Get the list of available models\n",
    "ollama.list()"
   ]
  },
  {
   "cell_type": "markdown",
   "id": "ecd89823-f3e5-4cbf-8cea-d3828d046e0c",
   "metadata": {},
   "source": [
    "#### The search string defined by the researchers in natural language"
   ]
  },
  {
   "cell_type": "code",
   "execution_count": 204,
   "id": "7bb99a00-5192-4911-9b2d-3b74d3e744b4",
   "metadata": {},
   "outputs": [],
   "source": [
    "search_string = \"\"\"\n",
    "determine the variables, factors, characteristics or attributes \n",
    "of \n",
    "quantitative studies, empirical research, statistical research or data-driven research\n",
    "that \n",
    "influence \n",
    "compliance, adherence, concordance, conformity, fulfilment, accordance or noncompliance behaviour \n",
    "of \n",
    "business, enterprise, firm, organisation, corporation or company  \n",
    "to \n",
    "regulation, policy, measure, law, standard, rule, statute, legislation, decree or guideline\n",
    "in\n",
    "Canada, United States, Austria, Belgium, Denmark, Finland, France, Germany, Greece, \n",
    "Ireland, Italy, Luxembourg, Netherlands, Portugal, Spain, Sweden, United Kingdom, \n",
    "Bulgaria, Croatia, Cyprus, Czechia, Estonia, Hungary, Latvia, Lithuania, Malta ,\n",
    "Poland, Romania, Slovakia, Slovenia, Iceland, Norway, Switzerland, Canada,\n",
    "France, Germany, Italy, Japan, United Kingdom, United States, Australia, Japan or New Zealand\n",
    "\"\"\""
   ]
  },
  {
   "cell_type": "markdown",
   "id": "2e7751d6-9e24-4573-93bc-f522d2d32fde",
   "metadata": {},
   "source": [
    "#### The helper functions"
   ]
  },
  {
   "cell_type": "code",
   "execution_count": 205,
   "id": "de608112-5a96-459e-a49e-cc962a71f954",
   "metadata": {},
   "outputs": [],
   "source": [
    "def call_chat(model_name, prompt):\n",
    "    output =  ollama.chat(model=model_name, messages=[\n",
    "            {\n",
    "             'role': 'user',\n",
    "             'temperature': 0,\n",
    "             'seed': 42,\n",
    "             'top_p':0.5,\n",
    "             'content': prompt,\n",
    "             },])['message']['content']\n",
    "    return output"
   ]
  },
  {
   "cell_type": "code",
   "execution_count": 12,
   "id": "6194519d-d7eb-410b-8942-3931decbf084",
   "metadata": {},
   "outputs": [],
   "source": [
    "#Based on article text, ask Llama 3 to\n",
    "#return True if the previous article complies with the search string; \n",
    "#otherwise, return False.\n",
    "def select_article(article_text, search_string):\n",
    "    chat_output = call_chat(\"llama3.1\", article_text + f\"You are a virtual assistant. Based on the previous scientific article, return True if the previous article complies with the following search string; otherwise, return False. This is the search string: \"+search_string+ \" You will only say True or False, no explanations\" )\n",
    "    chat_output = chat_output.replace(\".\", \"\") \n",
    "    chat_output = chat_output if chat_output.lower() in [ 'true','false'] else 'False'\n",
    "    return chat_output"
   ]
  },
  {
   "cell_type": "markdown",
   "id": "20741f65-8f64-4d6c-9d08-f449b68d0120",
   "metadata": {},
   "source": [
    "### Load the dataset with the information about the articles"
   ]
  },
  {
   "cell_type": "code",
   "execution_count": 7,
   "id": "1bf6e81b-aa5c-443c-ae01-6d6e080f50cb",
   "metadata": {},
   "outputs": [],
   "source": [
    "path = \"../\""
   ]
  },
  {
   "cell_type": "code",
   "execution_count": 8,
   "id": "1305c7c8-13c3-4195-affe-801522e56de8",
   "metadata": {},
   "outputs": [],
   "source": [
    "articles = pd.read_excel(os.path.join(path,\"Original_dataset_2017_2022.xlsx\"))"
   ]
  },
  {
   "cell_type": "code",
   "execution_count": 9,
   "id": "363afbf4-4e10-4c26-88f3-79969f727e6c",
   "metadata": {},
   "outputs": [
    {
     "data": {
      "text/plain": [
       "Index(['Reference Type', 'Author', 'Year', 'Title', 'Journal', 'Pages', 'Type',\n",
       "       'Title 2', 'DOI', 'Keywords', 'Abstract', 'Cited', 'Link', 'Database1',\n",
       "       'Database 2', 'Included', 'Screened'],\n",
       "      dtype='object')"
      ]
     },
     "execution_count": 9,
     "metadata": {},
     "output_type": "execute_result"
    }
   ],
   "source": [
    "articles.columns"
   ]
  },
  {
   "cell_type": "code",
   "execution_count": 10,
   "id": "f53602e4-7276-42d3-ada5-f03f34c1f4ab",
   "metadata": {},
   "outputs": [],
   "source": [
    "articles = articles[ [\"Title\", \"Abstract\", \"Keywords\", \"DOI\", 'Screened'] ]"
   ]
  },
  {
   "cell_type": "code",
   "execution_count": 212,
   "id": "9b43271c-a7e4-4c56-b5c4-9e492e6ce679",
   "metadata": {},
   "outputs": [],
   "source": [
    "articles.fillna(\"\", inplace=True)"
   ]
  },
  {
   "cell_type": "markdown",
   "id": "eb38b7f3-a0a9-4e90-9d43-5ed6fc8a8c62",
   "metadata": {},
   "source": [
    "#### Define a new column text as the concatenation of Title + Abstract + Keywords"
   ]
  },
  {
   "cell_type": "code",
   "execution_count": 214,
   "id": "d1cb5534-b400-4304-9d07-45569119d35c",
   "metadata": {},
   "outputs": [],
   "source": [
    "articles['Text'] = articles['Title'] + \". \" + articles['Abstract'] + \". \" + articles['Keywords'] + \". \""
   ]
  },
  {
   "cell_type": "code",
   "execution_count": 215,
   "id": "91eea083-25e1-4d88-99b7-fbe00fa3d8c9",
   "metadata": {},
   "outputs": [
    {
     "data": {
      "text/html": [
       "<div>\n",
       "<style scoped>\n",
       "    .dataframe tbody tr th:only-of-type {\n",
       "        vertical-align: middle;\n",
       "    }\n",
       "\n",
       "    .dataframe tbody tr th {\n",
       "        vertical-align: top;\n",
       "    }\n",
       "\n",
       "    .dataframe thead th {\n",
       "        text-align: right;\n",
       "    }\n",
       "</style>\n",
       "<table border=\"1\" class=\"dataframe\">\n",
       "  <thead>\n",
       "    <tr style=\"text-align: right;\">\n",
       "      <th></th>\n",
       "      <th>Title</th>\n",
       "      <th>Abstract</th>\n",
       "      <th>Keywords</th>\n",
       "      <th>DOI</th>\n",
       "      <th>Included</th>\n",
       "      <th>Text</th>\n",
       "    </tr>\n",
       "  </thead>\n",
       "  <tbody>\n",
       "    <tr>\n",
       "      <th>0</th>\n",
       "      <td>“Cleansing the air at the expense of waterways...</td>\n",
       "      <td>Environmental policies in the United States ha...</td>\n",
       "      <td>Clean Air Act (CAA)_x000D_\\nClean Water Act (C...</td>\n",
       "      <td>10.1007/s11149-016-9314-6</td>\n",
       "      <td>True</td>\n",
       "      <td>“Cleansing the air at the expense of waterways...</td>\n",
       "    </tr>\n",
       "    <tr>\n",
       "      <th>1</th>\n",
       "      <td>The extent of compliance with FRS 101 standard...</td>\n",
       "      <td>Purpose The purpose of this paper is to invest...</td>\n",
       "      <td>Financial statements_x000D_\\nAccounting standa...</td>\n",
       "      <td>10.1108/JAAR-10-2013-0078</td>\n",
       "      <td>False</td>\n",
       "      <td>The extent of compliance with FRS 101 standard...</td>\n",
       "    </tr>\n",
       "    <tr>\n",
       "      <th>2</th>\n",
       "      <td>Macroeconomic Effects of Monetary Policy Shock...</td>\n",
       "      <td>This study examines the impact of monetary pol...</td>\n",
       "      <td>monetary policy shocks_x000D_\\nMonetary transm...</td>\n",
       "      <td>10.1177/1391561416673507</td>\n",
       "      <td>False</td>\n",
       "      <td>Macroeconomic Effects of Monetary Policy Shock...</td>\n",
       "    </tr>\n",
       "    <tr>\n",
       "      <th>3</th>\n",
       "      <td>Antecedents and consequences of liking in reta...</td>\n",
       "      <td>The marketing literature has provided a limite...</td>\n",
       "      <td>China_x000D_\\nFinancial services_x000D_\\nGreec...</td>\n",
       "      <td>10.1016/j.ibusrev.2016.11.003</td>\n",
       "      <td>False</td>\n",
       "      <td>Antecedents and consequences of liking in reta...</td>\n",
       "    </tr>\n",
       "    <tr>\n",
       "      <th>4</th>\n",
       "      <td>Oil palm–community conflict mapping in Indones...</td>\n",
       "      <td>Conflict between large-scale oil-palm producer...</td>\n",
       "      <td>Boosted regression tree modelling_x000D_\\nBorn...</td>\n",
       "      <td>10.1016/j.apgeog.2016.10.005</td>\n",
       "      <td>False</td>\n",
       "      <td>Oil palm–community conflict mapping in Indones...</td>\n",
       "    </tr>\n",
       "  </tbody>\n",
       "</table>\n",
       "</div>"
      ],
      "text/plain": [
       "                                               Title  \\\n",
       "0  “Cleansing the air at the expense of waterways...   \n",
       "1  The extent of compliance with FRS 101 standard...   \n",
       "2  Macroeconomic Effects of Monetary Policy Shock...   \n",
       "3  Antecedents and consequences of liking in reta...   \n",
       "4  Oil palm–community conflict mapping in Indones...   \n",
       "\n",
       "                                            Abstract  \\\n",
       "0  Environmental policies in the United States ha...   \n",
       "1  Purpose The purpose of this paper is to invest...   \n",
       "2  This study examines the impact of monetary pol...   \n",
       "3  The marketing literature has provided a limite...   \n",
       "4  Conflict between large-scale oil-palm producer...   \n",
       "\n",
       "                                            Keywords  \\\n",
       "0  Clean Air Act (CAA)_x000D_\\nClean Water Act (C...   \n",
       "1  Financial statements_x000D_\\nAccounting standa...   \n",
       "2  monetary policy shocks_x000D_\\nMonetary transm...   \n",
       "3  China_x000D_\\nFinancial services_x000D_\\nGreec...   \n",
       "4  Boosted regression tree modelling_x000D_\\nBorn...   \n",
       "\n",
       "                             DOI Included  \\\n",
       "0      10.1007/s11149-016-9314-6     True   \n",
       "1      10.1108/JAAR-10-2013-0078    False   \n",
       "2       10.1177/1391561416673507    False   \n",
       "3  10.1016/j.ibusrev.2016.11.003    False   \n",
       "4   10.1016/j.apgeog.2016.10.005    False   \n",
       "\n",
       "                                                Text  \n",
       "0  “Cleansing the air at the expense of waterways...  \n",
       "1  The extent of compliance with FRS 101 standard...  \n",
       "2  Macroeconomic Effects of Monetary Policy Shock...  \n",
       "3  Antecedents and consequences of liking in reta...  \n",
       "4  Oil palm–community conflict mapping in Indones...  "
      ]
     },
     "execution_count": 215,
     "metadata": {},
     "output_type": "execute_result"
    }
   ],
   "source": [
    "articles.head()"
   ]
  },
  {
   "cell_type": "markdown",
   "id": "c801a541-139e-4604-8b16-9a8caa9ce854",
   "metadata": {},
   "source": [
    "### Select Articles That Meet the Criteria of a Search String"
   ]
  },
  {
   "cell_type": "code",
   "execution_count": 216,
   "id": "2bedbe9d-109d-4a50-8afc-1ed9a9aaa7ea",
   "metadata": {},
   "outputs": [
    {
     "data": {
      "text/plain": [
       "'True'"
      ]
     },
     "execution_count": 216,
     "metadata": {},
     "output_type": "execute_result"
    }
   ],
   "source": [
    "select_article(articles.loc[0,'Text'],search_string)"
   ]
  },
  {
   "cell_type": "code",
   "execution_count": 217,
   "id": "bd6ded23-ec36-4319-8f07-20206772f49d",
   "metadata": {},
   "outputs": [
    {
     "data": {
      "text/plain": [
       "'True'"
      ]
     },
     "execution_count": 217,
     "metadata": {},
     "output_type": "execute_result"
    }
   ],
   "source": [
    "select_article(articles.loc[1,'Text'],search_string)"
   ]
  },
  {
   "cell_type": "code",
   "execution_count": 11,
   "id": "c09985b6-a7b2-4f0f-8c08-d73c1da3c4e5",
   "metadata": {},
   "outputs": [],
   "source": [
    "#some_articles_df = articles[0:10] # For your first attemp, start with a small number"
   ]
  },
  {
   "cell_type": "code",
   "execution_count": 220,
   "id": "6e101eec-e2c1-4752-946d-46f62644d182",
   "metadata": {},
   "outputs": [
    {
     "data": {
      "text/html": [
       "<div>\n",
       "<style scoped>\n",
       "    .dataframe tbody tr th:only-of-type {\n",
       "        vertical-align: middle;\n",
       "    }\n",
       "\n",
       "    .dataframe tbody tr th {\n",
       "        vertical-align: top;\n",
       "    }\n",
       "\n",
       "    .dataframe thead th {\n",
       "        text-align: right;\n",
       "    }\n",
       "</style>\n",
       "<table border=\"1\" class=\"dataframe\">\n",
       "  <thead>\n",
       "    <tr style=\"text-align: right;\">\n",
       "      <th></th>\n",
       "      <th>Title</th>\n",
       "      <th>Abstract</th>\n",
       "      <th>Keywords</th>\n",
       "      <th>DOI</th>\n",
       "      <th>Included</th>\n",
       "      <th>Text</th>\n",
       "    </tr>\n",
       "  </thead>\n",
       "  <tbody>\n",
       "    <tr>\n",
       "      <th>0</th>\n",
       "      <td>“Cleansing the air at the expense of waterways...</td>\n",
       "      <td>Environmental policies in the United States ha...</td>\n",
       "      <td>Clean Air Act (CAA)_x000D_\\nClean Water Act (C...</td>\n",
       "      <td>10.1007/s11149-016-9314-6</td>\n",
       "      <td>True</td>\n",
       "      <td>“Cleansing the air at the expense of waterways...</td>\n",
       "    </tr>\n",
       "    <tr>\n",
       "      <th>1</th>\n",
       "      <td>The extent of compliance with FRS 101 standard...</td>\n",
       "      <td>Purpose The purpose of this paper is to invest...</td>\n",
       "      <td>Financial statements_x000D_\\nAccounting standa...</td>\n",
       "      <td>10.1108/JAAR-10-2013-0078</td>\n",
       "      <td>False</td>\n",
       "      <td>The extent of compliance with FRS 101 standard...</td>\n",
       "    </tr>\n",
       "    <tr>\n",
       "      <th>2</th>\n",
       "      <td>Macroeconomic Effects of Monetary Policy Shock...</td>\n",
       "      <td>This study examines the impact of monetary pol...</td>\n",
       "      <td>monetary policy shocks_x000D_\\nMonetary transm...</td>\n",
       "      <td>10.1177/1391561416673507</td>\n",
       "      <td>False</td>\n",
       "      <td>Macroeconomic Effects of Monetary Policy Shock...</td>\n",
       "    </tr>\n",
       "    <tr>\n",
       "      <th>3</th>\n",
       "      <td>Antecedents and consequences of liking in reta...</td>\n",
       "      <td>The marketing literature has provided a limite...</td>\n",
       "      <td>China_x000D_\\nFinancial services_x000D_\\nGreec...</td>\n",
       "      <td>10.1016/j.ibusrev.2016.11.003</td>\n",
       "      <td>False</td>\n",
       "      <td>Antecedents and consequences of liking in reta...</td>\n",
       "    </tr>\n",
       "    <tr>\n",
       "      <th>4</th>\n",
       "      <td>Oil palm–community conflict mapping in Indones...</td>\n",
       "      <td>Conflict between large-scale oil-palm producer...</td>\n",
       "      <td>Boosted regression tree modelling_x000D_\\nBorn...</td>\n",
       "      <td>10.1016/j.apgeog.2016.10.005</td>\n",
       "      <td>False</td>\n",
       "      <td>Oil palm–community conflict mapping in Indones...</td>\n",
       "    </tr>\n",
       "  </tbody>\n",
       "</table>\n",
       "</div>"
      ],
      "text/plain": [
       "                                               Title  \\\n",
       "0  “Cleansing the air at the expense of waterways...   \n",
       "1  The extent of compliance with FRS 101 standard...   \n",
       "2  Macroeconomic Effects of Monetary Policy Shock...   \n",
       "3  Antecedents and consequences of liking in reta...   \n",
       "4  Oil palm–community conflict mapping in Indones...   \n",
       "\n",
       "                                            Abstract  \\\n",
       "0  Environmental policies in the United States ha...   \n",
       "1  Purpose The purpose of this paper is to invest...   \n",
       "2  This study examines the impact of monetary pol...   \n",
       "3  The marketing literature has provided a limite...   \n",
       "4  Conflict between large-scale oil-palm producer...   \n",
       "\n",
       "                                            Keywords  \\\n",
       "0  Clean Air Act (CAA)_x000D_\\nClean Water Act (C...   \n",
       "1  Financial statements_x000D_\\nAccounting standa...   \n",
       "2  monetary policy shocks_x000D_\\nMonetary transm...   \n",
       "3  China_x000D_\\nFinancial services_x000D_\\nGreec...   \n",
       "4  Boosted regression tree modelling_x000D_\\nBorn...   \n",
       "\n",
       "                             DOI Included  \\\n",
       "0      10.1007/s11149-016-9314-6     True   \n",
       "1      10.1108/JAAR-10-2013-0078    False   \n",
       "2       10.1177/1391561416673507    False   \n",
       "3  10.1016/j.ibusrev.2016.11.003    False   \n",
       "4   10.1016/j.apgeog.2016.10.005    False   \n",
       "\n",
       "                                                Text  \n",
       "0  “Cleansing the air at the expense of waterways...  \n",
       "1  The extent of compliance with FRS 101 standard...  \n",
       "2  Macroeconomic Effects of Monetary Policy Shock...  \n",
       "3  Antecedents and consequences of liking in reta...  \n",
       "4  Oil palm–community conflict mapping in Indones...  "
      ]
     },
     "execution_count": 220,
     "metadata": {},
     "output_type": "execute_result"
    }
   ],
   "source": [
    "articles_df.head()"
   ]
  },
  {
   "cell_type": "markdown",
   "id": "e74186ec-b967-49c1-ab14-796ddb418af3",
   "metadata": {},
   "source": [
    "#### Apply function 'select_article' to each article that returns True if the previous article complies with the search string; otherwise, returns False."
   ]
  },
  {
   "cell_type": "code",
   "execution_count": 221,
   "id": "52b236f8-facb-4012-9c63-095a4ae808eb",
   "metadata": {},
   "outputs": [
    {
     "name": "stderr",
     "output_type": "stream",
     "text": [
      "100%|██████████████████████████████████| 15296/15296 [13:25:27<00:00,  3.16s/it]"
     ]
    },
    {
     "name": "stdout",
     "output_type": "stream",
     "text": [
      "CPU times: user 1min 29s, sys: 15.6 s, total: 1min 45s\n",
      "Wall time: 13h 25min 27s\n"
     ]
    },
    {
     "name": "stderr",
     "output_type": "stream",
     "text": [
      "\n"
     ]
    }
   ],
   "source": [
    "%%time\n",
    "articles_df.loc[:, 'Selected'] = articles_df['Text'].progress_apply(lambda article_text : select_article(article_text, search_string))"
   ]
  },
  {
   "cell_type": "code",
   "execution_count": 222,
   "id": "1da3117b-3547-416a-aa49-02f34a112e63",
   "metadata": {},
   "outputs": [
    {
     "data": {
      "text/html": [
       "<div>\n",
       "<style scoped>\n",
       "    .dataframe tbody tr th:only-of-type {\n",
       "        vertical-align: middle;\n",
       "    }\n",
       "\n",
       "    .dataframe tbody tr th {\n",
       "        vertical-align: top;\n",
       "    }\n",
       "\n",
       "    .dataframe thead th {\n",
       "        text-align: right;\n",
       "    }\n",
       "</style>\n",
       "<table border=\"1\" class=\"dataframe\">\n",
       "  <thead>\n",
       "    <tr style=\"text-align: right;\">\n",
       "      <th></th>\n",
       "      <th>Title</th>\n",
       "      <th>Abstract</th>\n",
       "      <th>Keywords</th>\n",
       "      <th>DOI</th>\n",
       "      <th>Included</th>\n",
       "      <th>Text</th>\n",
       "      <th>Selected</th>\n",
       "    </tr>\n",
       "  </thead>\n",
       "  <tbody>\n",
       "    <tr>\n",
       "      <th>0</th>\n",
       "      <td>“Cleansing the air at the expense of waterways...</td>\n",
       "      <td>Environmental policies in the United States ha...</td>\n",
       "      <td>Clean Air Act (CAA)_x000D_\\nClean Water Act (C...</td>\n",
       "      <td>10.1007/s11149-016-9314-6</td>\n",
       "      <td>True</td>\n",
       "      <td>“Cleansing the air at the expense of waterways...</td>\n",
       "      <td>True</td>\n",
       "    </tr>\n",
       "    <tr>\n",
       "      <th>1</th>\n",
       "      <td>The extent of compliance with FRS 101 standard...</td>\n",
       "      <td>Purpose The purpose of this paper is to invest...</td>\n",
       "      <td>Financial statements_x000D_\\nAccounting standa...</td>\n",
       "      <td>10.1108/JAAR-10-2013-0078</td>\n",
       "      <td>False</td>\n",
       "      <td>The extent of compliance with FRS 101 standard...</td>\n",
       "      <td>True</td>\n",
       "    </tr>\n",
       "    <tr>\n",
       "      <th>2</th>\n",
       "      <td>Macroeconomic Effects of Monetary Policy Shock...</td>\n",
       "      <td>This study examines the impact of monetary pol...</td>\n",
       "      <td>monetary policy shocks_x000D_\\nMonetary transm...</td>\n",
       "      <td>10.1177/1391561416673507</td>\n",
       "      <td>False</td>\n",
       "      <td>Macroeconomic Effects of Monetary Policy Shock...</td>\n",
       "      <td>False</td>\n",
       "    </tr>\n",
       "    <tr>\n",
       "      <th>3</th>\n",
       "      <td>Antecedents and consequences of liking in reta...</td>\n",
       "      <td>The marketing literature has provided a limite...</td>\n",
       "      <td>China_x000D_\\nFinancial services_x000D_\\nGreec...</td>\n",
       "      <td>10.1016/j.ibusrev.2016.11.003</td>\n",
       "      <td>False</td>\n",
       "      <td>Antecedents and consequences of liking in reta...</td>\n",
       "      <td>True</td>\n",
       "    </tr>\n",
       "    <tr>\n",
       "      <th>4</th>\n",
       "      <td>Oil palm–community conflict mapping in Indones...</td>\n",
       "      <td>Conflict between large-scale oil-palm producer...</td>\n",
       "      <td>Boosted regression tree modelling_x000D_\\nBorn...</td>\n",
       "      <td>10.1016/j.apgeog.2016.10.005</td>\n",
       "      <td>False</td>\n",
       "      <td>Oil palm–community conflict mapping in Indones...</td>\n",
       "      <td>False</td>\n",
       "    </tr>\n",
       "  </tbody>\n",
       "</table>\n",
       "</div>"
      ],
      "text/plain": [
       "                                               Title  \\\n",
       "0  “Cleansing the air at the expense of waterways...   \n",
       "1  The extent of compliance with FRS 101 standard...   \n",
       "2  Macroeconomic Effects of Monetary Policy Shock...   \n",
       "3  Antecedents and consequences of liking in reta...   \n",
       "4  Oil palm–community conflict mapping in Indones...   \n",
       "\n",
       "                                            Abstract  \\\n",
       "0  Environmental policies in the United States ha...   \n",
       "1  Purpose The purpose of this paper is to invest...   \n",
       "2  This study examines the impact of monetary pol...   \n",
       "3  The marketing literature has provided a limite...   \n",
       "4  Conflict between large-scale oil-palm producer...   \n",
       "\n",
       "                                            Keywords  \\\n",
       "0  Clean Air Act (CAA)_x000D_\\nClean Water Act (C...   \n",
       "1  Financial statements_x000D_\\nAccounting standa...   \n",
       "2  monetary policy shocks_x000D_\\nMonetary transm...   \n",
       "3  China_x000D_\\nFinancial services_x000D_\\nGreec...   \n",
       "4  Boosted regression tree modelling_x000D_\\nBorn...   \n",
       "\n",
       "                             DOI Included  \\\n",
       "0      10.1007/s11149-016-9314-6     True   \n",
       "1      10.1108/JAAR-10-2013-0078    False   \n",
       "2       10.1177/1391561416673507    False   \n",
       "3  10.1016/j.ibusrev.2016.11.003    False   \n",
       "4   10.1016/j.apgeog.2016.10.005    False   \n",
       "\n",
       "                                                Text Selected  \n",
       "0  “Cleansing the air at the expense of waterways...     True  \n",
       "1  The extent of compliance with FRS 101 standard...     True  \n",
       "2  Macroeconomic Effects of Monetary Policy Shock...    False  \n",
       "3  Antecedents and consequences of liking in reta...     True  \n",
       "4  Oil palm–community conflict mapping in Indones...    False  "
      ]
     },
     "execution_count": 222,
     "metadata": {},
     "output_type": "execute_result"
    }
   ],
   "source": [
    "articles_df.head()"
   ]
  },
  {
   "cell_type": "code",
   "execution_count": 228,
   "id": "5ef57913-7096-4ea8-9570-7cbc98a53255",
   "metadata": {},
   "outputs": [],
   "source": [
    "articles_df.to_excel(\"selected_articles_by_llm.xlsx\", index=False)"
   ]
  },
  {
   "cell_type": "markdown",
   "id": "059008a3-1da4-4900-8ab2-a72efa0db436",
   "metadata": {},
   "source": [
    "### Compare to Human Labels"
   ]
  },
  {
   "cell_type": "code",
   "execution_count": 17,
   "id": "a9e87307-3155-4807-be21-b0d777c5df7d",
   "metadata": {},
   "outputs": [
    {
     "data": {
      "image/png": "[encoded data removed]",
      "text/plain": [
       "<Figure size 1000x600 with 1 Axes>"
      ]
     },
     "metadata": {},
     "output_type": "display_data"
    }
   ],
   "source": [
    "# Sample data: replace these values with your actual numbers\n",
    "selected_not_in_screening = len(articles_df[(articles_df['Screened']== True)&(articles_df['Selected']==True)])  # Example: number of Selected articles not in Screening\n",
    "selected_intersected = len(articles_df[(articles_df['Screened']== True)&(articles_df['Selected']==True)])  # Example: number of Selected Articles that are intersected with Screening\n",
    "screening_not_selected = len(articles_df[(articles_df['Screened']== False)&(articles_df['Selected']==True)])  # Example: number of Screening not Selected\n",
    "\n",
    "# Create the Venn diagram\n",
    "plt.figure(figsize=(10, 6))\n",
    "\n",
    "# Define the sets for the Venn diagram\n",
    "venn_values = (selected_not_in_screening, screening_not_selected, selected_intersected)\n",
    "\n",
    "# Draw the Venn diagram\n",
    "venn = venn2(subsets=venn_values, set_labels=('Selected by LLM', 'Selected by Researchers'))\n",
    "\n",
    "# Customize colors\n",
    "venn.get_patch_by_id('10').set_color('#FF9999')  # Selected by LLM\n",
    "venn.get_patch_by_id('01').set_color('#99CCFF')  # Screened by Researchers\n",
    "venn.get_patch_by_id('11').set_color('#FFFF99')   # Intersection color\n",
    "\n",
    "# Customize font properties\n",
    "rcParams['font.family'] = 'sans-serif'\n",
    "rcParams['font.sans-serif'] = ['Comic Sans MS', 'Helvetica']\n",
    "plt.title('Venn Diagram of Selected Articles: Llama 3 Vs Researchers', fontsize=24, fontweight='bold')\n",
    "\n",
    "# Add grid and show the plot\n",
    "plt.grid(False)\n",
    "plt.show()"
   ]
  },
  {
   "cell_type": "code",
   "execution_count": null,
   "id": "cc4cc188-de39-402a-a122-f1ae77ff9083",
   "metadata": {},
   "outputs": [],
   "source": []
  }
 ],
 "metadata": {
  "kernelspec": {
   "display_name": "Python 3 (ipykernel)",
   "language": "python",
   "name": "python3"
  },
  "language_info": {
   "codemirror_mode": {
    "name": "ipython",
    "version": 3
   },
   "file_extension": ".py",
   "mimetype": "text/x-python",
   "name": "python",
   "nbconvert_exporter": "python",
   "pygments_lexer": "ipython3",
   "version": "3.9.9"
  }
 },
 "nbformat": 4,
 "nbformat_minor": 5
}
